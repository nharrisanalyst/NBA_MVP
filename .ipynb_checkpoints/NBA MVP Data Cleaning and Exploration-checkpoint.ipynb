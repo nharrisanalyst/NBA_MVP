{
 "cells": [
  {
   "cell_type": "code",
   "execution_count": 124,
   "metadata": {},
   "outputs": [],
   "source": [
    "from plotnine import ggplot, geom_histogram, aes, stat_bin, facet_wrap, geom_point, theme, element_text"
   ]
  },
  {
   "cell_type": "code",
   "execution_count": 2,
   "metadata": {},
   "outputs": [],
   "source": [
    "import pandas as pd "
   ]
  },
  {
   "cell_type": "code",
   "execution_count": 91,
   "metadata": {},
   "outputs": [
    {
     "name": "stdout",
     "output_type": "stream",
     "text": [
      "Requirement already satisfied: numpy in /opt/anaconda3/lib/python3.7/site-packages (1.21.6)\r\n"
     ]
    }
   ],
   "source": [
    "!pip install numpy"
   ]
  },
  {
   "cell_type": "code",
   "execution_count": 3,
   "metadata": {},
   "outputs": [],
   "source": [
    "per_game_df = pd.read_csv('data/player_game.csv')"
   ]
  },
  {
   "cell_type": "code",
   "execution_count": 4,
   "metadata": {},
   "outputs": [
    {
     "data": {
      "text/plain": [
       "Index(['Unnamed: 0', 'Player', 'Pos', 'Age', 'Tm', 'G', 'GS', 'MP', 'FG',\n",
       "       'FGA', 'FG%', '3P', '3PA', '3P%', '2P', '2PA', '2P%', 'eFG%', 'FT',\n",
       "       'FTA', 'FT%', 'ORB', 'DRB', 'TRB', 'AST', 'STL', 'BLK', 'TOV', 'PF',\n",
       "       'PTS', 'season'],\n",
       "      dtype='object')"
      ]
     },
     "execution_count": 4,
     "metadata": {},
     "output_type": "execute_result"
    }
   ],
   "source": [
    "per_game_df.columns"
   ]
  },
  {
   "cell_type": "code",
   "execution_count": 5,
   "metadata": {
    "scrolled": true
   },
   "outputs": [
    {
     "data": {
      "text/plain": [
       "Unnamed: 0      int64\n",
       "Player         object\n",
       "Pos            object\n",
       "Age             int64\n",
       "Tm             object\n",
       "G               int64\n",
       "GS            float64\n",
       "MP            float64\n",
       "FG            float64\n",
       "FGA           float64\n",
       "FG%           float64\n",
       "3P            float64\n",
       "3PA           float64\n",
       "3P%           float64\n",
       "2P            float64\n",
       "2PA           float64\n",
       "2P%           float64\n",
       "eFG%          float64\n",
       "FT            float64\n",
       "FTA           float64\n",
       "FT%           float64\n",
       "ORB           float64\n",
       "DRB           float64\n",
       "TRB           float64\n",
       "AST           float64\n",
       "STL           float64\n",
       "BLK           float64\n",
       "TOV           float64\n",
       "PF            float64\n",
       "PTS           float64\n",
       "season        float64\n",
       "dtype: object"
      ]
     },
     "execution_count": 5,
     "metadata": {},
     "output_type": "execute_result"
    }
   ],
   "source": [
    "per_game_df.dtypes"
   ]
  },
  {
   "cell_type": "code",
   "execution_count": 6,
   "metadata": {},
   "outputs": [],
   "source": [
    "per_game_df['season'] = per_game_df['season'].astype('category')"
   ]
  },
  {
   "cell_type": "code",
   "execution_count": 7,
   "metadata": {},
   "outputs": [
    {
     "data": {
      "text/html": [
       "<div>\n",
       "<style scoped>\n",
       "    .dataframe tbody tr th:only-of-type {\n",
       "        vertical-align: middle;\n",
       "    }\n",
       "\n",
       "    .dataframe tbody tr th {\n",
       "        vertical-align: top;\n",
       "    }\n",
       "\n",
       "    .dataframe thead th {\n",
       "        text-align: right;\n",
       "    }\n",
       "</style>\n",
       "<table border=\"1\" class=\"dataframe\">\n",
       "  <thead>\n",
       "    <tr style=\"text-align: right;\">\n",
       "      <th></th>\n",
       "      <th>Player</th>\n",
       "      <th>eFG%</th>\n",
       "      <th>season</th>\n",
       "    </tr>\n",
       "  </thead>\n",
       "  <tbody>\n",
       "    <tr>\n",
       "      <th>2146</th>\n",
       "      <td>Matt Guokas</td>\n",
       "      <td>NaN</td>\n",
       "      <td>1971.0</td>\n",
       "    </tr>\n",
       "    <tr>\n",
       "      <th>2384</th>\n",
       "      <td>Shaler Halimon</td>\n",
       "      <td>NaN</td>\n",
       "      <td>1972.0</td>\n",
       "    </tr>\n",
       "    <tr>\n",
       "      <th>2597</th>\n",
       "      <td>Roger Brown</td>\n",
       "      <td>NaN</td>\n",
       "      <td>1973.0</td>\n",
       "    </tr>\n",
       "    <tr>\n",
       "      <th>2748</th>\n",
       "      <td>Luther Rackley</td>\n",
       "      <td>NaN</td>\n",
       "      <td>1973.0</td>\n",
       "    </tr>\n",
       "    <tr>\n",
       "      <th>3009</th>\n",
       "      <td>Mike Ratliff</td>\n",
       "      <td>NaN</td>\n",
       "      <td>1974.0</td>\n",
       "    </tr>\n",
       "    <tr>\n",
       "      <th>...</th>\n",
       "      <td>...</td>\n",
       "      <td>...</td>\n",
       "      <td>...</td>\n",
       "    </tr>\n",
       "    <tr>\n",
       "      <th>27030</th>\n",
       "      <td>Chris Silva</td>\n",
       "      <td>NaN</td>\n",
       "      <td>2022.0</td>\n",
       "    </tr>\n",
       "    <tr>\n",
       "      <th>27163</th>\n",
       "      <td>Moses Wright</td>\n",
       "      <td>NaN</td>\n",
       "      <td>2022.0</td>\n",
       "    </tr>\n",
       "    <tr>\n",
       "      <th>27262</th>\n",
       "      <td>Moses Brown</td>\n",
       "      <td>NaN</td>\n",
       "      <td>2023.0</td>\n",
       "    </tr>\n",
       "    <tr>\n",
       "      <th>27369</th>\n",
       "      <td>Michael Foster Jr.</td>\n",
       "      <td>NaN</td>\n",
       "      <td>2023.0</td>\n",
       "    </tr>\n",
       "    <tr>\n",
       "      <th>27825</th>\n",
       "      <td>Alondes Williams</td>\n",
       "      <td>NaN</td>\n",
       "      <td>2023.0</td>\n",
       "    </tr>\n",
       "  </tbody>\n",
       "</table>\n",
       "<p>130 rows × 3 columns</p>\n",
       "</div>"
      ],
      "text/plain": [
       "                   Player  eFG%  season\n",
       "2146          Matt Guokas   NaN  1971.0\n",
       "2384       Shaler Halimon   NaN  1972.0\n",
       "2597          Roger Brown   NaN  1973.0\n",
       "2748       Luther Rackley   NaN  1973.0\n",
       "3009         Mike Ratliff   NaN  1974.0\n",
       "...                   ...   ...     ...\n",
       "27030         Chris Silva   NaN  2022.0\n",
       "27163        Moses Wright   NaN  2022.0\n",
       "27262         Moses Brown   NaN  2023.0\n",
       "27369  Michael Foster Jr.   NaN  2023.0\n",
       "27825    Alondes Williams   NaN  2023.0\n",
       "\n",
       "[130 rows x 3 columns]"
      ]
     },
     "execution_count": 7,
     "metadata": {},
     "output_type": "execute_result"
    }
   ],
   "source": [
    "per_game_df[per_game_df['eFG%'].isna()][:][['Player','eFG%','season']] ## show NaN for efg% "
   ]
  },
  {
   "cell_type": "code",
   "execution_count": 8,
   "metadata": {},
   "outputs": [],
   "source": [
    "per_game_df_ft = per_game_df[per_game_df.FTA>0.0]"
   ]
  },
  {
   "cell_type": "code",
   "execution_count": 9,
   "metadata": {},
   "outputs": [
    {
     "name": "stderr",
     "output_type": "stream",
     "text": [
      "/opt/anaconda3/lib/python3.7/site-packages/ipykernel_launcher.py:1: UserWarning: Boolean Series key will be reindexed to match DataFrame index.\n"
     ]
    }
   ],
   "source": [
    "per_game_df_ft_fga = per_game_df_ft[per_game_df.FGA >0.0]"
   ]
  },
  {
   "cell_type": "code",
   "execution_count": 10,
   "metadata": {},
   "outputs": [
    {
     "data": {
      "text/plain": [
       "0"
      ]
     },
     "execution_count": 10,
     "metadata": {},
     "output_type": "execute_result"
    }
   ],
   "source": [
    "len(per_game_df_ft_fga[per_game_df_ft_fga['eFG%'].isna()])"
   ]
  },
  {
   "cell_type": "code",
   "execution_count": 11,
   "metadata": {},
   "outputs": [
    {
     "data": {
      "text/plain": [
       "0"
      ]
     },
     "execution_count": 11,
     "metadata": {},
     "output_type": "execute_result"
    }
   ],
   "source": [
    "len(per_game_df_ft_fga[per_game_df_ft_fga['season'].isna()])"
   ]
  },
  {
   "cell_type": "code",
   "execution_count": 13,
   "metadata": {},
   "outputs": [
    {
     "name": "stderr",
     "output_type": "stream",
     "text": [
      "/opt/anaconda3/lib/python3.7/site-packages/plotnine/stats/stat_bin.py:95: PlotnineWarning: 'stat_bin()' using 'bins = 267'. Pick better value with 'binwidth'.\n"
     ]
    },
    {
     "data": {
      "image/png": "[encoded data removed]",
      "text/plain": [
       "<Figure size 640x480 with 1 Axes>"
      ]
     },
     "metadata": {},
     "output_type": "display_data"
    },
    {
     "data": {
      "text/plain": [
       "<ggplot: (8781177737077)>"
      ]
     },
     "execution_count": 13,
     "metadata": {},
     "output_type": "execute_result"
    }
   ],
   "source": [
    "(ggplot(per_game_df_ft_fga, aes(x='eFG%', color=\"factor(season)\")) + geom_histogram())"
   ]
  },
  {
   "cell_type": "code",
   "execution_count": 26,
   "metadata": {},
   "outputs": [
    {
     "data": {
      "image/png": "[encoded data removed]",
      "text/plain": [
       "<Figure size 640x480 with 68 Axes>"
      ]
     },
     "metadata": {},
     "output_type": "display_data"
    },
    {
     "data": {
      "text/plain": [
       "<ggplot: (8781177938145)>"
      ]
     },
     "execution_count": 26,
     "metadata": {},
     "output_type": "execute_result"
    }
   ],
   "source": [
    "(ggplot(per_game_df_ft_fga, aes(x='eFG%')) + geom_histogram(binwidth=0.02) + facet_wrap('season'))"
   ]
  },
  {
   "cell_type": "code",
   "execution_count": 29,
   "metadata": {},
   "outputs": [
    {
     "name": "stderr",
     "output_type": "stream",
     "text": [
      "/opt/anaconda3/lib/python3.7/site-packages/plotnine/stats/stat_bin.py:95: PlotnineWarning: 'stat_bin()' using 'bins = 267'. Pick better value with 'binwidth'.\n"
     ]
    },
    {
     "data": {
      "image/png": "[encoded data removed]",
      "text/plain": [
       "<Figure size 640x480 with 1 Axes>"
      ]
     },
     "metadata": {},
     "output_type": "display_data"
    },
    {
     "data": {
      "text/plain": [
       "<ggplot: (8781181320297)>"
      ]
     },
     "execution_count": 29,
     "metadata": {},
     "output_type": "execute_result"
    }
   ],
   "source": [
    "(ggplot(per_game_df_ft_fga, aes(x='eFG%', fill= 'season')) + geom_histogram(alpha=0.6, position='identity'))"
   ]
  },
  {
   "cell_type": "code",
   "execution_count": 102,
   "metadata": {},
   "outputs": [],
   "source": [
    "seasons = [1959, 2023]"
   ]
  },
  {
   "cell_type": "code",
   "execution_count": 103,
   "metadata": {},
   "outputs": [],
   "source": [
    "few_seasons_data = per_game_df_ft_fga[per_game_df_ft_fga['season'].isin(seasons)]"
   ]
  },
  {
   "cell_type": "code",
   "execution_count": 104,
   "metadata": {},
   "outputs": [
    {
     "name": "stderr",
     "output_type": "stream",
     "text": [
      "/opt/anaconda3/lib/python3.7/site-packages/ipykernel_launcher.py:1: SettingWithCopyWarning: \n",
      "A value is trying to be set on a copy of a slice from a DataFrame.\n",
      "Try using .loc[row_indexer,col_indexer] = value instead\n",
      "\n",
      "See the caveats in the documentation: https://pandas.pydata.org/pandas-docs/stable/user_guide/indexing.html#returning-a-view-versus-a-copy\n"
     ]
    }
   ],
   "source": [
    "few_seasons_data['season'] = few_seasons_data['season'].cat.remove_unused_categories()"
   ]
  },
  {
   "cell_type": "code",
   "execution_count": 105,
   "metadata": {},
   "outputs": [
    {
     "data": {
      "text/plain": [
       "2023.0    642\n",
       "1959.0    107\n",
       "Name: season, dtype: int64"
      ]
     },
     "execution_count": 105,
     "metadata": {},
     "output_type": "execute_result"
    }
   ],
   "source": [
    "few_seasons_data['season'].value_counts()"
   ]
  },
  {
   "cell_type": "code",
   "execution_count": 129,
   "metadata": {},
   "outputs": [
    {
     "name": "stderr",
     "output_type": "stream",
     "text": [
      "/opt/anaconda3/lib/python3.7/site-packages/plotnine/stats/stat_bin.py:95: PlotnineWarning: 'stat_bin()' using 'bins = 45'. Pick better value with 'binwidth'.\n"
     ]
    },
    {
     "data": {
      "image/png": "[encoded data removed]",
      "text/plain": [
       "<Figure size 1600x800 with 1 Axes>"
      ]
     },
     "metadata": {},
     "output_type": "display_data"
    },
    {
     "data": {
      "text/plain": [
       "<ggplot: (8782626162961)>"
      ]
     },
     "execution_count": 129,
     "metadata": {},
     "output_type": "execute_result"
    }
   ],
   "source": [
    "(ggplot(few_seasons_data, aes(x='eFG%', fill= 'season')) + geom_histogram(alpha=0.6, position='identity')+theme(figure_size=(16, 8)))"
   ]
  },
  {
   "cell_type": "code",
   "execution_count": 95,
   "metadata": {},
   "outputs": [
    {
     "data": {
      "text/plain": [
       "season\n",
       "2010.0    0.479066\n",
       "2023.0    0.540003\n",
       "Name: eFG%, dtype: float64"
      ]
     },
     "execution_count": 95,
     "metadata": {},
     "output_type": "execute_result"
    }
   ],
   "source": [
    "few_seasons_data.groupby('season')['eFG%'].mean()"
   ]
  },
  {
   "cell_type": "code",
   "execution_count": 110,
   "metadata": {},
   "outputs": [
    {
     "data": {
      "text/plain": [
       "season\n",
       "1959.0    0.042577\n",
       "2023.0    0.085896\n",
       "Name: eFG%, dtype: float64"
      ]
     },
     "execution_count": 110,
     "metadata": {},
     "output_type": "execute_result"
    }
   ],
   "source": [
    "few_seasons_data.groupby('season')['eFG%'].std()"
   ]
  },
  {
   "cell_type": "code",
   "execution_count": 115,
   "metadata": {},
   "outputs": [],
   "source": [
    "efg_mean = per_game_df_ft_fga.groupby('season')['eFG%'].mean().reset_index()"
   ]
  },
  {
   "cell_type": "code",
   "execution_count": 101,
   "metadata": {},
   "outputs": [
    {
     "data": {
      "text/plain": [
       "season\n",
       "1956.0    0.063613\n",
       "1957.0    0.048988\n",
       "1958.0    0.062861\n",
       "1959.0    0.042577\n",
       "1960.0    0.069816\n",
       "            ...   \n",
       "2019.0    0.083708\n",
       "2020.0    0.095344\n",
       "2021.0    0.096922\n",
       "2022.0    0.101274\n",
       "2023.0    0.085896\n",
       "Name: eFG%, Length: 68, dtype: float64"
      ]
     },
     "execution_count": 101,
     "metadata": {},
     "output_type": "execute_result"
    }
   ],
   "source": [
    "per_game_df_ft_fga.groupby('season')['eFG%'].std()"
   ]
  },
  {
   "cell_type": "code",
   "execution_count": 118,
   "metadata": {},
   "outputs": [
    {
     "data": {
      "text/html": [
       "<div>\n",
       "<style scoped>\n",
       "    .dataframe tbody tr th:only-of-type {\n",
       "        vertical-align: middle;\n",
       "    }\n",
       "\n",
       "    .dataframe tbody tr th {\n",
       "        vertical-align: top;\n",
       "    }\n",
       "\n",
       "    .dataframe thead th {\n",
       "        text-align: right;\n",
       "    }\n",
       "</style>\n",
       "<table border=\"1\" class=\"dataframe\">\n",
       "  <thead>\n",
       "    <tr style=\"text-align: right;\">\n",
       "      <th></th>\n",
       "      <th>season</th>\n",
       "      <th>eFG%</th>\n",
       "    </tr>\n",
       "  </thead>\n",
       "  <tbody>\n",
       "    <tr>\n",
       "      <th>0</th>\n",
       "      <td>1956.0</td>\n",
       "      <td>0.367132</td>\n",
       "    </tr>\n",
       "    <tr>\n",
       "      <th>1</th>\n",
       "      <td>1957.0</td>\n",
       "      <td>0.360536</td>\n",
       "    </tr>\n",
       "    <tr>\n",
       "      <th>2</th>\n",
       "      <td>1958.0</td>\n",
       "      <td>0.358185</td>\n",
       "    </tr>\n",
       "    <tr>\n",
       "      <th>3</th>\n",
       "      <td>1959.0</td>\n",
       "      <td>0.382056</td>\n",
       "    </tr>\n",
       "    <tr>\n",
       "      <th>4</th>\n",
       "      <td>1960.0</td>\n",
       "      <td>0.393192</td>\n",
       "    </tr>\n",
       "    <tr>\n",
       "      <th>...</th>\n",
       "      <td>...</td>\n",
       "      <td>...</td>\n",
       "    </tr>\n",
       "    <tr>\n",
       "      <th>63</th>\n",
       "      <td>2019.0</td>\n",
       "      <td>0.505590</td>\n",
       "    </tr>\n",
       "    <tr>\n",
       "      <th>64</th>\n",
       "      <td>2020.0</td>\n",
       "      <td>0.514744</td>\n",
       "    </tr>\n",
       "    <tr>\n",
       "      <th>65</th>\n",
       "      <td>2021.0</td>\n",
       "      <td>0.516320</td>\n",
       "    </tr>\n",
       "    <tr>\n",
       "      <th>66</th>\n",
       "      <td>2022.0</td>\n",
       "      <td>0.511966</td>\n",
       "    </tr>\n",
       "    <tr>\n",
       "      <th>67</th>\n",
       "      <td>2023.0</td>\n",
       "      <td>0.540003</td>\n",
       "    </tr>\n",
       "  </tbody>\n",
       "</table>\n",
       "<p>68 rows × 2 columns</p>\n",
       "</div>"
      ],
      "text/plain": [
       "    season      eFG%\n",
       "0   1956.0  0.367132\n",
       "1   1957.0  0.360536\n",
       "2   1958.0  0.358185\n",
       "3   1959.0  0.382056\n",
       "4   1960.0  0.393192\n",
       "..     ...       ...\n",
       "63  2019.0  0.505590\n",
       "64  2020.0  0.514744\n",
       "65  2021.0  0.516320\n",
       "66  2022.0  0.511966\n",
       "67  2023.0  0.540003\n",
       "\n",
       "[68 rows x 2 columns]"
      ]
     },
     "execution_count": 118,
     "metadata": {},
     "output_type": "execute_result"
    }
   ],
   "source": [
    "efg_mean"
   ]
  },
  {
   "cell_type": "code",
   "execution_count": 127,
   "metadata": {},
   "outputs": [
    {
     "data": {
      "image/png": "[encoded data removed]",
      "text/plain": [
       "<Figure size 1600x800 with 1 Axes>"
      ]
     },
     "metadata": {},
     "output_type": "display_data"
    },
    {
     "data": {
      "text/plain": [
       "<ggplot: (8782599738729)>"
      ]
     },
     "execution_count": 127,
     "metadata": {},
     "output_type": "execute_result"
    }
   ],
   "source": [
    "(ggplot(efg_mean, aes(x='season', y='eFG%')) + geom_point() +theme(figure_size=(16, 8), axis_text_x = element_text(rotation=270)))"
   ]
  },
  {
   "cell_type": "code",
   "execution_count": 130,
   "metadata": {},
   "outputs": [],
   "source": [
    "nba_mvp =  pd.read_csv('data/nba_mvp.csv')"
   ]
  },
  {
   "cell_type": "code",
   "execution_count": 131,
   "metadata": {},
   "outputs": [
    {
     "data": {
      "text/html": [
       "<div>\n",
       "<style scoped>\n",
       "    .dataframe tbody tr th:only-of-type {\n",
       "        vertical-align: middle;\n",
       "    }\n",
       "\n",
       "    .dataframe tbody tr th {\n",
       "        vertical-align: top;\n",
       "    }\n",
       "\n",
       "    .dataframe thead th {\n",
       "        text-align: right;\n",
       "    }\n",
       "</style>\n",
       "<table border=\"1\" class=\"dataframe\">\n",
       "  <thead>\n",
       "    <tr style=\"text-align: right;\">\n",
       "      <th></th>\n",
       "      <th>Unnamed: 0</th>\n",
       "      <th>Season</th>\n",
       "      <th>Lg</th>\n",
       "      <th>Player</th>\n",
       "      <th>Voting</th>\n",
       "      <th>Age</th>\n",
       "      <th>Tm</th>\n",
       "      <th>G</th>\n",
       "      <th>MP</th>\n",
       "      <th>PTS</th>\n",
       "      <th>TRB</th>\n",
       "      <th>AST</th>\n",
       "      <th>STL</th>\n",
       "      <th>BLK</th>\n",
       "      <th>FG%</th>\n",
       "      <th>3P%</th>\n",
       "      <th>FT%</th>\n",
       "      <th>WS</th>\n",
       "      <th>WS/48</th>\n",
       "    </tr>\n",
       "  </thead>\n",
       "  <tbody>\n",
       "    <tr>\n",
       "      <th>0</th>\n",
       "      <td>0</td>\n",
       "      <td>2022-23</td>\n",
       "      <td>NBA</td>\n",
       "      <td>Joel Embiid</td>\n",
       "      <td>(V)</td>\n",
       "      <td>28</td>\n",
       "      <td>PHI</td>\n",
       "      <td>66</td>\n",
       "      <td>34.6</td>\n",
       "      <td>33.1</td>\n",
       "      <td>10.2</td>\n",
       "      <td>4.2</td>\n",
       "      <td>1.0</td>\n",
       "      <td>1.7</td>\n",
       "      <td>0.548</td>\n",
       "      <td>0.330</td>\n",
       "      <td>0.857</td>\n",
       "      <td>12.3</td>\n",
       "      <td>0.259</td>\n",
       "    </tr>\n",
       "    <tr>\n",
       "      <th>1</th>\n",
       "      <td>1</td>\n",
       "      <td>2021-22</td>\n",
       "      <td>NBA</td>\n",
       "      <td>Nikola Jokić</td>\n",
       "      <td>(V)</td>\n",
       "      <td>26</td>\n",
       "      <td>DEN</td>\n",
       "      <td>74</td>\n",
       "      <td>33.5</td>\n",
       "      <td>27.1</td>\n",
       "      <td>13.8</td>\n",
       "      <td>7.9</td>\n",
       "      <td>1.5</td>\n",
       "      <td>0.9</td>\n",
       "      <td>0.583</td>\n",
       "      <td>0.337</td>\n",
       "      <td>0.810</td>\n",
       "      <td>15.2</td>\n",
       "      <td>0.296</td>\n",
       "    </tr>\n",
       "    <tr>\n",
       "      <th>2</th>\n",
       "      <td>2</td>\n",
       "      <td>2020-21</td>\n",
       "      <td>NBA</td>\n",
       "      <td>Nikola Jokić</td>\n",
       "      <td>(V)</td>\n",
       "      <td>25</td>\n",
       "      <td>DEN</td>\n",
       "      <td>72</td>\n",
       "      <td>34.6</td>\n",
       "      <td>26.4</td>\n",
       "      <td>10.8</td>\n",
       "      <td>8.3</td>\n",
       "      <td>1.3</td>\n",
       "      <td>0.7</td>\n",
       "      <td>0.566</td>\n",
       "      <td>0.388</td>\n",
       "      <td>0.868</td>\n",
       "      <td>15.6</td>\n",
       "      <td>0.301</td>\n",
       "    </tr>\n",
       "    <tr>\n",
       "      <th>3</th>\n",
       "      <td>3</td>\n",
       "      <td>2019-20</td>\n",
       "      <td>NBA</td>\n",
       "      <td>Giannis Antetokounmpo</td>\n",
       "      <td>(V)</td>\n",
       "      <td>25</td>\n",
       "      <td>MIL</td>\n",
       "      <td>63</td>\n",
       "      <td>30.4</td>\n",
       "      <td>29.5</td>\n",
       "      <td>13.6</td>\n",
       "      <td>5.6</td>\n",
       "      <td>1.0</td>\n",
       "      <td>1.0</td>\n",
       "      <td>0.553</td>\n",
       "      <td>0.304</td>\n",
       "      <td>0.633</td>\n",
       "      <td>11.1</td>\n",
       "      <td>0.279</td>\n",
       "    </tr>\n",
       "    <tr>\n",
       "      <th>4</th>\n",
       "      <td>4</td>\n",
       "      <td>2018-19</td>\n",
       "      <td>NBA</td>\n",
       "      <td>Giannis Antetokounmpo</td>\n",
       "      <td>(V)</td>\n",
       "      <td>24</td>\n",
       "      <td>MIL</td>\n",
       "      <td>72</td>\n",
       "      <td>32.8</td>\n",
       "      <td>27.7</td>\n",
       "      <td>12.5</td>\n",
       "      <td>5.9</td>\n",
       "      <td>1.3</td>\n",
       "      <td>1.5</td>\n",
       "      <td>0.578</td>\n",
       "      <td>0.256</td>\n",
       "      <td>0.729</td>\n",
       "      <td>14.4</td>\n",
       "      <td>0.292</td>\n",
       "    </tr>\n",
       "  </tbody>\n",
       "</table>\n",
       "</div>"
      ],
      "text/plain": [
       "   Unnamed: 0   Season   Lg                 Player Voting  Age   Tm   G    MP  \\\n",
       "0           0  2022-23  NBA            Joel Embiid    (V)   28  PHI  66  34.6   \n",
       "1           1  2021-22  NBA           Nikola Jokić    (V)   26  DEN  74  33.5   \n",
       "2           2  2020-21  NBA           Nikola Jokić    (V)   25  DEN  72  34.6   \n",
       "3           3  2019-20  NBA  Giannis Antetokounmpo    (V)   25  MIL  63  30.4   \n",
       "4           4  2018-19  NBA  Giannis Antetokounmpo    (V)   24  MIL  72  32.8   \n",
       "\n",
       "    PTS   TRB  AST  STL  BLK    FG%    3P%    FT%    WS  WS/48  \n",
       "0  33.1  10.2  4.2  1.0  1.7  0.548  0.330  0.857  12.3  0.259  \n",
       "1  27.1  13.8  7.9  1.5  0.9  0.583  0.337  0.810  15.2  0.296  \n",
       "2  26.4  10.8  8.3  1.3  0.7  0.566  0.388  0.868  15.6  0.301  \n",
       "3  29.5  13.6  5.6  1.0  1.0  0.553  0.304  0.633  11.1  0.279  \n",
       "4  27.7  12.5  5.9  1.3  1.5  0.578  0.256  0.729  14.4  0.292  "
      ]
     },
     "execution_count": 131,
     "metadata": {},
     "output_type": "execute_result"
    }
   ],
   "source": [
    "nba_mvp.head()"
   ]
  },
  {
   "cell_type": "code",
   "execution_count": 132,
   "metadata": {},
   "outputs": [
    {
     "data": {
      "text/html": [
       "<div>\n",
       "<style scoped>\n",
       "    .dataframe tbody tr th:only-of-type {\n",
       "        vertical-align: middle;\n",
       "    }\n",
       "\n",
       "    .dataframe tbody tr th {\n",
       "        vertical-align: top;\n",
       "    }\n",
       "\n",
       "    .dataframe thead th {\n",
       "        text-align: right;\n",
       "    }\n",
       "</style>\n",
       "<table border=\"1\" class=\"dataframe\">\n",
       "  <thead>\n",
       "    <tr style=\"text-align: right;\">\n",
       "      <th></th>\n",
       "      <th>Unnamed: 0</th>\n",
       "      <th>Season</th>\n",
       "      <th>Lg</th>\n",
       "      <th>Player</th>\n",
       "      <th>Voting</th>\n",
       "      <th>Age</th>\n",
       "      <th>Tm</th>\n",
       "      <th>G</th>\n",
       "      <th>MP</th>\n",
       "      <th>PTS</th>\n",
       "      <th>TRB</th>\n",
       "      <th>AST</th>\n",
       "      <th>STL</th>\n",
       "      <th>BLK</th>\n",
       "      <th>FG%</th>\n",
       "      <th>3P%</th>\n",
       "      <th>FT%</th>\n",
       "      <th>WS</th>\n",
       "      <th>WS/48</th>\n",
       "    </tr>\n",
       "  </thead>\n",
       "  <tbody>\n",
       "    <tr>\n",
       "      <th>63</th>\n",
       "      <td>63</td>\n",
       "      <td>1959-60</td>\n",
       "      <td>NBA</td>\n",
       "      <td>Wilt Chamberlain</td>\n",
       "      <td>(V)</td>\n",
       "      <td>23</td>\n",
       "      <td>PHW</td>\n",
       "      <td>72</td>\n",
       "      <td>46.4</td>\n",
       "      <td>37.6</td>\n",
       "      <td>27.0</td>\n",
       "      <td>2.3</td>\n",
       "      <td>NaN</td>\n",
       "      <td>NaN</td>\n",
       "      <td>0.461</td>\n",
       "      <td>NaN</td>\n",
       "      <td>0.582</td>\n",
       "      <td>17.0</td>\n",
       "      <td>0.245</td>\n",
       "    </tr>\n",
       "    <tr>\n",
       "      <th>64</th>\n",
       "      <td>64</td>\n",
       "      <td>1958-59</td>\n",
       "      <td>NBA</td>\n",
       "      <td>Bob Pettit</td>\n",
       "      <td>(V)</td>\n",
       "      <td>26</td>\n",
       "      <td>STL</td>\n",
       "      <td>72</td>\n",
       "      <td>39.9</td>\n",
       "      <td>29.2</td>\n",
       "      <td>16.4</td>\n",
       "      <td>3.1</td>\n",
       "      <td>NaN</td>\n",
       "      <td>NaN</td>\n",
       "      <td>0.438</td>\n",
       "      <td>NaN</td>\n",
       "      <td>0.759</td>\n",
       "      <td>14.8</td>\n",
       "      <td>0.246</td>\n",
       "    </tr>\n",
       "    <tr>\n",
       "      <th>65</th>\n",
       "      <td>65</td>\n",
       "      <td>1957-58</td>\n",
       "      <td>NBA</td>\n",
       "      <td>Bill Russell</td>\n",
       "      <td>(V)</td>\n",
       "      <td>23</td>\n",
       "      <td>BOS</td>\n",
       "      <td>69</td>\n",
       "      <td>38.3</td>\n",
       "      <td>16.6</td>\n",
       "      <td>22.7</td>\n",
       "      <td>2.9</td>\n",
       "      <td>NaN</td>\n",
       "      <td>NaN</td>\n",
       "      <td>0.442</td>\n",
       "      <td>NaN</td>\n",
       "      <td>0.519</td>\n",
       "      <td>11.3</td>\n",
       "      <td>0.206</td>\n",
       "    </tr>\n",
       "    <tr>\n",
       "      <th>66</th>\n",
       "      <td>66</td>\n",
       "      <td>1956-57</td>\n",
       "      <td>NBA</td>\n",
       "      <td>Bob Cousy</td>\n",
       "      <td>(V)</td>\n",
       "      <td>28</td>\n",
       "      <td>BOS</td>\n",
       "      <td>64</td>\n",
       "      <td>36.9</td>\n",
       "      <td>20.6</td>\n",
       "      <td>4.8</td>\n",
       "      <td>7.5</td>\n",
       "      <td>NaN</td>\n",
       "      <td>NaN</td>\n",
       "      <td>0.378</td>\n",
       "      <td>NaN</td>\n",
       "      <td>0.821</td>\n",
       "      <td>8.8</td>\n",
       "      <td>0.178</td>\n",
       "    </tr>\n",
       "    <tr>\n",
       "      <th>67</th>\n",
       "      <td>67</td>\n",
       "      <td>1955-56</td>\n",
       "      <td>NBA</td>\n",
       "      <td>Bob Pettit</td>\n",
       "      <td>(V)</td>\n",
       "      <td>23</td>\n",
       "      <td>STL</td>\n",
       "      <td>72</td>\n",
       "      <td>38.8</td>\n",
       "      <td>25.7</td>\n",
       "      <td>16.2</td>\n",
       "      <td>2.6</td>\n",
       "      <td>NaN</td>\n",
       "      <td>NaN</td>\n",
       "      <td>0.429</td>\n",
       "      <td>NaN</td>\n",
       "      <td>0.736</td>\n",
       "      <td>13.8</td>\n",
       "      <td>0.236</td>\n",
       "    </tr>\n",
       "  </tbody>\n",
       "</table>\n",
       "</div>"
      ],
      "text/plain": [
       "    Unnamed: 0   Season   Lg            Player Voting  Age   Tm   G    MP  \\\n",
       "63          63  1959-60  NBA  Wilt Chamberlain    (V)   23  PHW  72  46.4   \n",
       "64          64  1958-59  NBA        Bob Pettit    (V)   26  STL  72  39.9   \n",
       "65          65  1957-58  NBA      Bill Russell    (V)   23  BOS  69  38.3   \n",
       "66          66  1956-57  NBA         Bob Cousy    (V)   28  BOS  64  36.9   \n",
       "67          67  1955-56  NBA        Bob Pettit    (V)   23  STL  72  38.8   \n",
       "\n",
       "     PTS   TRB  AST  STL  BLK    FG%  3P%    FT%    WS  WS/48  \n",
       "63  37.6  27.0  2.3  NaN  NaN  0.461  NaN  0.582  17.0  0.245  \n",
       "64  29.2  16.4  3.1  NaN  NaN  0.438  NaN  0.759  14.8  0.246  \n",
       "65  16.6  22.7  2.9  NaN  NaN  0.442  NaN  0.519  11.3  0.206  \n",
       "66  20.6   4.8  7.5  NaN  NaN  0.378  NaN  0.821   8.8  0.178  \n",
       "67  25.7  16.2  2.6  NaN  NaN  0.429  NaN  0.736  13.8  0.236  "
      ]
     },
     "execution_count": 132,
     "metadata": {},
     "output_type": "execute_result"
    }
   ],
   "source": [
    "nba_mvp.tail()"
   ]
  },
  {
   "cell_type": "code",
   "execution_count": 133,
   "metadata": {
    "scrolled": true
   },
   "outputs": [
    {
     "data": {
      "text/plain": [
       "Unnamed: 0      int64\n",
       "Season         object\n",
       "Lg             object\n",
       "Player         object\n",
       "Voting         object\n",
       "Age             int64\n",
       "Tm             object\n",
       "G               int64\n",
       "MP            float64\n",
       "PTS           float64\n",
       "TRB           float64\n",
       "AST           float64\n",
       "STL           float64\n",
       "BLK           float64\n",
       "FG%           float64\n",
       "3P%           float64\n",
       "FT%           float64\n",
       "WS            float64\n",
       "WS/48         float64\n",
       "dtype: object"
      ]
     },
     "execution_count": 133,
     "metadata": {},
     "output_type": "execute_result"
    }
   ],
   "source": [
    "nba_mvp.dtypes"
   ]
  },
  {
   "cell_type": "code",
   "execution_count": 134,
   "metadata": {},
   "outputs": [
    {
     "data": {
      "text/plain": [
       "Index(['Unnamed: 0', 'Player', 'Pos', 'Age', 'Tm', 'G', 'GS', 'MP', 'FG',\n",
       "       'FGA', 'FG%', '3P', '3PA', '3P%', '2P', '2PA', '2P%', 'eFG%', 'FT',\n",
       "       'FTA', 'FT%', 'ORB', 'DRB', 'TRB', 'AST', 'STL', 'BLK', 'TOV', 'PF',\n",
       "       'PTS', 'season'],\n",
       "      dtype='object')"
      ]
     },
     "execution_count": 134,
     "metadata": {},
     "output_type": "execute_result"
    }
   ],
   "source": [
    "per_game_df_ft_fga.columns"
   ]
  },
  {
   "cell_type": "code",
   "execution_count": 141,
   "metadata": {},
   "outputs": [],
   "source": [
    "nba_mvp = nba_mvp.rename(columns ={'Season':'season'})"
   ]
  },
  {
   "cell_type": "code",
   "execution_count": 147,
   "metadata": {},
   "outputs": [
    {
     "data": {
      "text/plain": [
       "Unnamed: 0      int64\n",
       "season         object\n",
       "Lg             object\n",
       "Player         object\n",
       "Voting         object\n",
       "Age             int64\n",
       "Tm             object\n",
       "G               int64\n",
       "MP            float64\n",
       "PTS           float64\n",
       "TRB           float64\n",
       "AST           float64\n",
       "STL           float64\n",
       "BLK           float64\n",
       "FG%           float64\n",
       "3P%           float64\n",
       "FT%           float64\n",
       "WS            float64\n",
       "WS/48         float64\n",
       "dtype: object"
      ]
     },
     "execution_count": 147,
     "metadata": {},
     "output_type": "execute_result"
    }
   ],
   "source": [
    "nba_mvp.dtypes"
   ]
  },
  {
   "cell_type": "code",
   "execution_count": 148,
   "metadata": {},
   "outputs": [
    {
     "data": {
      "text/html": [
       "<div>\n",
       "<style scoped>\n",
       "    .dataframe tbody tr th:only-of-type {\n",
       "        vertical-align: middle;\n",
       "    }\n",
       "\n",
       "    .dataframe tbody tr th {\n",
       "        vertical-align: top;\n",
       "    }\n",
       "\n",
       "    .dataframe thead th {\n",
       "        text-align: right;\n",
       "    }\n",
       "</style>\n",
       "<table border=\"1\" class=\"dataframe\">\n",
       "  <thead>\n",
       "    <tr style=\"text-align: right;\">\n",
       "      <th></th>\n",
       "      <th>Unnamed: 0</th>\n",
       "      <th>season</th>\n",
       "      <th>Lg</th>\n",
       "      <th>Player</th>\n",
       "      <th>Voting</th>\n",
       "      <th>Age</th>\n",
       "      <th>Tm</th>\n",
       "      <th>G</th>\n",
       "      <th>MP</th>\n",
       "      <th>PTS</th>\n",
       "      <th>TRB</th>\n",
       "      <th>AST</th>\n",
       "      <th>STL</th>\n",
       "      <th>BLK</th>\n",
       "      <th>FG%</th>\n",
       "      <th>3P%</th>\n",
       "      <th>FT%</th>\n",
       "      <th>WS</th>\n",
       "      <th>WS/48</th>\n",
       "    </tr>\n",
       "  </thead>\n",
       "  <tbody>\n",
       "    <tr>\n",
       "      <th>0</th>\n",
       "      <td>0</td>\n",
       "      <td>2022-23</td>\n",
       "      <td>NBA</td>\n",
       "      <td>Joel Embiid</td>\n",
       "      <td>(V)</td>\n",
       "      <td>28</td>\n",
       "      <td>PHI</td>\n",
       "      <td>66</td>\n",
       "      <td>34.6</td>\n",
       "      <td>33.1</td>\n",
       "      <td>10.2</td>\n",
       "      <td>4.2</td>\n",
       "      <td>1.0</td>\n",
       "      <td>1.7</td>\n",
       "      <td>0.548</td>\n",
       "      <td>0.330</td>\n",
       "      <td>0.857</td>\n",
       "      <td>12.3</td>\n",
       "      <td>0.259</td>\n",
       "    </tr>\n",
       "    <tr>\n",
       "      <th>1</th>\n",
       "      <td>1</td>\n",
       "      <td>2021-22</td>\n",
       "      <td>NBA</td>\n",
       "      <td>Nikola Jokić</td>\n",
       "      <td>(V)</td>\n",
       "      <td>26</td>\n",
       "      <td>DEN</td>\n",
       "      <td>74</td>\n",
       "      <td>33.5</td>\n",
       "      <td>27.1</td>\n",
       "      <td>13.8</td>\n",
       "      <td>7.9</td>\n",
       "      <td>1.5</td>\n",
       "      <td>0.9</td>\n",
       "      <td>0.583</td>\n",
       "      <td>0.337</td>\n",
       "      <td>0.810</td>\n",
       "      <td>15.2</td>\n",
       "      <td>0.296</td>\n",
       "    </tr>\n",
       "    <tr>\n",
       "      <th>2</th>\n",
       "      <td>2</td>\n",
       "      <td>2020-21</td>\n",
       "      <td>NBA</td>\n",
       "      <td>Nikola Jokić</td>\n",
       "      <td>(V)</td>\n",
       "      <td>25</td>\n",
       "      <td>DEN</td>\n",
       "      <td>72</td>\n",
       "      <td>34.6</td>\n",
       "      <td>26.4</td>\n",
       "      <td>10.8</td>\n",
       "      <td>8.3</td>\n",
       "      <td>1.3</td>\n",
       "      <td>0.7</td>\n",
       "      <td>0.566</td>\n",
       "      <td>0.388</td>\n",
       "      <td>0.868</td>\n",
       "      <td>15.6</td>\n",
       "      <td>0.301</td>\n",
       "    </tr>\n",
       "    <tr>\n",
       "      <th>3</th>\n",
       "      <td>3</td>\n",
       "      <td>2019-20</td>\n",
       "      <td>NBA</td>\n",
       "      <td>Giannis Antetokounmpo</td>\n",
       "      <td>(V)</td>\n",
       "      <td>25</td>\n",
       "      <td>MIL</td>\n",
       "      <td>63</td>\n",
       "      <td>30.4</td>\n",
       "      <td>29.5</td>\n",
       "      <td>13.6</td>\n",
       "      <td>5.6</td>\n",
       "      <td>1.0</td>\n",
       "      <td>1.0</td>\n",
       "      <td>0.553</td>\n",
       "      <td>0.304</td>\n",
       "      <td>0.633</td>\n",
       "      <td>11.1</td>\n",
       "      <td>0.279</td>\n",
       "    </tr>\n",
       "    <tr>\n",
       "      <th>4</th>\n",
       "      <td>4</td>\n",
       "      <td>2018-19</td>\n",
       "      <td>NBA</td>\n",
       "      <td>Giannis Antetokounmpo</td>\n",
       "      <td>(V)</td>\n",
       "      <td>24</td>\n",
       "      <td>MIL</td>\n",
       "      <td>72</td>\n",
       "      <td>32.8</td>\n",
       "      <td>27.7</td>\n",
       "      <td>12.5</td>\n",
       "      <td>5.9</td>\n",
       "      <td>1.3</td>\n",
       "      <td>1.5</td>\n",
       "      <td>0.578</td>\n",
       "      <td>0.256</td>\n",
       "      <td>0.729</td>\n",
       "      <td>14.4</td>\n",
       "      <td>0.292</td>\n",
       "    </tr>\n",
       "  </tbody>\n",
       "</table>\n",
       "</div>"
      ],
      "text/plain": [
       "   Unnamed: 0   season   Lg                 Player Voting  Age   Tm   G    MP  \\\n",
       "0           0  2022-23  NBA            Joel Embiid    (V)   28  PHI  66  34.6   \n",
       "1           1  2021-22  NBA           Nikola Jokić    (V)   26  DEN  74  33.5   \n",
       "2           2  2020-21  NBA           Nikola Jokić    (V)   25  DEN  72  34.6   \n",
       "3           3  2019-20  NBA  Giannis Antetokounmpo    (V)   25  MIL  63  30.4   \n",
       "4           4  2018-19  NBA  Giannis Antetokounmpo    (V)   24  MIL  72  32.8   \n",
       "\n",
       "    PTS   TRB  AST  STL  BLK    FG%    3P%    FT%    WS  WS/48  \n",
       "0  33.1  10.2  4.2  1.0  1.7  0.548  0.330  0.857  12.3  0.259  \n",
       "1  27.1  13.8  7.9  1.5  0.9  0.583  0.337  0.810  15.2  0.296  \n",
       "2  26.4  10.8  8.3  1.3  0.7  0.566  0.388  0.868  15.6  0.301  \n",
       "3  29.5  13.6  5.6  1.0  1.0  0.553  0.304  0.633  11.1  0.279  \n",
       "4  27.7  12.5  5.9  1.3  1.5  0.578  0.256  0.729  14.4  0.292  "
      ]
     },
     "execution_count": 148,
     "metadata": {},
     "output_type": "execute_result"
    }
   ],
   "source": [
    "nba_mvp.head()"
   ]
  },
  {
   "cell_type": "code",
   "execution_count": 151,
   "metadata": {},
   "outputs": [
    {
     "data": {
      "text/html": [
       "<div>\n",
       "<style scoped>\n",
       "    .dataframe tbody tr th:only-of-type {\n",
       "        vertical-align: middle;\n",
       "    }\n",
       "\n",
       "    .dataframe tbody tr th {\n",
       "        vertical-align: top;\n",
       "    }\n",
       "\n",
       "    .dataframe thead th {\n",
       "        text-align: right;\n",
       "    }\n",
       "</style>\n",
       "<table border=\"1\" class=\"dataframe\">\n",
       "  <thead>\n",
       "    <tr style=\"text-align: right;\">\n",
       "      <th></th>\n",
       "      <th>Unnamed: 0</th>\n",
       "      <th>Player</th>\n",
       "      <th>Pos</th>\n",
       "      <th>Age</th>\n",
       "      <th>Tm</th>\n",
       "      <th>G</th>\n",
       "      <th>GS</th>\n",
       "      <th>MP</th>\n",
       "      <th>FG</th>\n",
       "      <th>FGA</th>\n",
       "      <th>...</th>\n",
       "      <th>ORB</th>\n",
       "      <th>DRB</th>\n",
       "      <th>TRB</th>\n",
       "      <th>AST</th>\n",
       "      <th>STL</th>\n",
       "      <th>BLK</th>\n",
       "      <th>TOV</th>\n",
       "      <th>PF</th>\n",
       "      <th>PTS</th>\n",
       "      <th>season</th>\n",
       "    </tr>\n",
       "  </thead>\n",
       "  <tbody>\n",
       "    <tr>\n",
       "      <th>0</th>\n",
       "      <td>0</td>\n",
       "      <td>Paul Arizin*</td>\n",
       "      <td>SF</td>\n",
       "      <td>27</td>\n",
       "      <td>PHW</td>\n",
       "      <td>72</td>\n",
       "      <td>NaN</td>\n",
       "      <td>37.8</td>\n",
       "      <td>8.6</td>\n",
       "      <td>19.1</td>\n",
       "      <td>...</td>\n",
       "      <td>NaN</td>\n",
       "      <td>NaN</td>\n",
       "      <td>7.5</td>\n",
       "      <td>2.6</td>\n",
       "      <td>NaN</td>\n",
       "      <td>NaN</td>\n",
       "      <td>NaN</td>\n",
       "      <td>3.9</td>\n",
       "      <td>24.2</td>\n",
       "      <td>1956.0</td>\n",
       "    </tr>\n",
       "    <tr>\n",
       "      <th>1</th>\n",
       "      <td>1</td>\n",
       "      <td>Jesse Arnelle</td>\n",
       "      <td>PF</td>\n",
       "      <td>22</td>\n",
       "      <td>FTW</td>\n",
       "      <td>31</td>\n",
       "      <td>NaN</td>\n",
       "      <td>13.2</td>\n",
       "      <td>1.7</td>\n",
       "      <td>5.3</td>\n",
       "      <td>...</td>\n",
       "      <td>NaN</td>\n",
       "      <td>NaN</td>\n",
       "      <td>5.5</td>\n",
       "      <td>0.6</td>\n",
       "      <td>NaN</td>\n",
       "      <td>NaN</td>\n",
       "      <td>NaN</td>\n",
       "      <td>1.9</td>\n",
       "      <td>4.7</td>\n",
       "      <td>1956.0</td>\n",
       "    </tr>\n",
       "    <tr>\n",
       "      <th>2</th>\n",
       "      <td>2</td>\n",
       "      <td>Dick Atha</td>\n",
       "      <td>SG</td>\n",
       "      <td>24</td>\n",
       "      <td>NYK</td>\n",
       "      <td>25</td>\n",
       "      <td>NaN</td>\n",
       "      <td>11.5</td>\n",
       "      <td>1.4</td>\n",
       "      <td>3.5</td>\n",
       "      <td>...</td>\n",
       "      <td>NaN</td>\n",
       "      <td>NaN</td>\n",
       "      <td>1.7</td>\n",
       "      <td>1.3</td>\n",
       "      <td>NaN</td>\n",
       "      <td>NaN</td>\n",
       "      <td>NaN</td>\n",
       "      <td>1.6</td>\n",
       "      <td>3.7</td>\n",
       "      <td>1956.0</td>\n",
       "    </tr>\n",
       "    <tr>\n",
       "      <th>3</th>\n",
       "      <td>3</td>\n",
       "      <td>Jim Baechtold</td>\n",
       "      <td>SF</td>\n",
       "      <td>28</td>\n",
       "      <td>NYK</td>\n",
       "      <td>70</td>\n",
       "      <td>NaN</td>\n",
       "      <td>24.8</td>\n",
       "      <td>3.8</td>\n",
       "      <td>9.9</td>\n",
       "      <td>...</td>\n",
       "      <td>NaN</td>\n",
       "      <td>NaN</td>\n",
       "      <td>3.1</td>\n",
       "      <td>2.3</td>\n",
       "      <td>NaN</td>\n",
       "      <td>NaN</td>\n",
       "      <td>NaN</td>\n",
       "      <td>2.2</td>\n",
       "      <td>11.0</td>\n",
       "      <td>1956.0</td>\n",
       "    </tr>\n",
       "    <tr>\n",
       "      <th>4</th>\n",
       "      <td>4</td>\n",
       "      <td>Ernie Barrett</td>\n",
       "      <td>SG</td>\n",
       "      <td>26</td>\n",
       "      <td>BOS</td>\n",
       "      <td>72</td>\n",
       "      <td>NaN</td>\n",
       "      <td>20.2</td>\n",
       "      <td>2.9</td>\n",
       "      <td>7.4</td>\n",
       "      <td>...</td>\n",
       "      <td>NaN</td>\n",
       "      <td>NaN</td>\n",
       "      <td>3.4</td>\n",
       "      <td>2.4</td>\n",
       "      <td>NaN</td>\n",
       "      <td>NaN</td>\n",
       "      <td>NaN</td>\n",
       "      <td>2.6</td>\n",
       "      <td>7.0</td>\n",
       "      <td>1956.0</td>\n",
       "    </tr>\n",
       "  </tbody>\n",
       "</table>\n",
       "<p>5 rows × 31 columns</p>\n",
       "</div>"
      ],
      "text/plain": [
       "   Unnamed: 0         Player Pos  Age   Tm   G  GS    MP   FG   FGA  ...  ORB  \\\n",
       "0           0   Paul Arizin*  SF   27  PHW  72 NaN  37.8  8.6  19.1  ...  NaN   \n",
       "1           1  Jesse Arnelle  PF   22  FTW  31 NaN  13.2  1.7   5.3  ...  NaN   \n",
       "2           2      Dick Atha  SG   24  NYK  25 NaN  11.5  1.4   3.5  ...  NaN   \n",
       "3           3  Jim Baechtold  SF   28  NYK  70 NaN  24.8  3.8   9.9  ...  NaN   \n",
       "4           4  Ernie Barrett  SG   26  BOS  72 NaN  20.2  2.9   7.4  ...  NaN   \n",
       "\n",
       "   DRB  TRB  AST  STL  BLK  TOV   PF   PTS  season  \n",
       "0  NaN  7.5  2.6  NaN  NaN  NaN  3.9  24.2  1956.0  \n",
       "1  NaN  5.5  0.6  NaN  NaN  NaN  1.9   4.7  1956.0  \n",
       "2  NaN  1.7  1.3  NaN  NaN  NaN  1.6   3.7  1956.0  \n",
       "3  NaN  3.1  2.3  NaN  NaN  NaN  2.2  11.0  1956.0  \n",
       "4  NaN  3.4  2.4  NaN  NaN  NaN  2.6   7.0  1956.0  \n",
       "\n",
       "[5 rows x 31 columns]"
      ]
     },
     "execution_count": 151,
     "metadata": {},
     "output_type": "execute_result"
    }
   ],
   "source": [
    "per_game_df_ft_fga.head()"
   ]
  },
  {
   "cell_type": "code",
   "execution_count": 143,
   "metadata": {},
   "outputs": [
    {
     "data": {
      "text/plain": [
       "Index(['Unnamed: 0', 'season', 'Lg', 'Player', 'Voting', 'Age', 'Tm', 'G',\n",
       "       'MP', 'PTS', 'TRB', 'AST', 'STL', 'BLK', 'FG%', '3P%', 'FT%', 'WS',\n",
       "       'WS/48'],\n",
       "      dtype='object')"
      ]
     },
     "execution_count": 143,
     "metadata": {},
     "output_type": "execute_result"
    }
   ],
   "source": [
    "nba_mvp.columns"
   ]
  },
  {
   "cell_type": "code",
   "execution_count": 153,
   "metadata": {},
   "outputs": [
    {
     "data": {
      "text/plain": [
       "Unnamed: 0      int64\n",
       "season         object\n",
       "Lg             object\n",
       "Player         object\n",
       "Voting         object\n",
       "Age             int64\n",
       "Tm             object\n",
       "G               int64\n",
       "MP            float64\n",
       "PTS           float64\n",
       "TRB           float64\n",
       "AST           float64\n",
       "STL           float64\n",
       "BLK           float64\n",
       "FG%           float64\n",
       "3P%           float64\n",
       "FT%           float64\n",
       "WS            float64\n",
       "WS/48         float64\n",
       "dtype: object"
      ]
     },
     "execution_count": 153,
     "metadata": {},
     "output_type": "execute_result"
    }
   ],
   "source": [
    "nba_mvp.dtypes"
   ]
  },
  {
   "cell_type": "code",
   "execution_count": 206,
   "metadata": {},
   "outputs": [],
   "source": [
    "nba_mvp['season'] = nba_mvp['season'].str.split('-').str[0].astype('int64') +1"
   ]
  },
  {
   "cell_type": "code",
   "execution_count": 207,
   "metadata": {},
   "outputs": [],
   "source": [
    "nba_mvp_pg = pd.merge(per_game_df_ft_fga,nba_mvp, how='inner', on =['season', 'Player'])"
   ]
  },
  {
   "cell_type": "code",
   "execution_count": 208,
   "metadata": {},
   "outputs": [
    {
     "data": {
      "text/html": [
       "<div>\n",
       "<style scoped>\n",
       "    .dataframe tbody tr th:only-of-type {\n",
       "        vertical-align: middle;\n",
       "    }\n",
       "\n",
       "    .dataframe tbody tr th {\n",
       "        vertical-align: top;\n",
       "    }\n",
       "\n",
       "    .dataframe thead th {\n",
       "        text-align: right;\n",
       "    }\n",
       "</style>\n",
       "<table border=\"1\" class=\"dataframe\">\n",
       "  <thead>\n",
       "    <tr style=\"text-align: right;\">\n",
       "      <th></th>\n",
       "      <th>Unnamed: 0_x</th>\n",
       "      <th>Player</th>\n",
       "      <th>Pos</th>\n",
       "      <th>Age_x</th>\n",
       "      <th>Tm_x</th>\n",
       "      <th>G_x</th>\n",
       "      <th>GS</th>\n",
       "      <th>MP_x</th>\n",
       "      <th>FG</th>\n",
       "      <th>FGA</th>\n",
       "      <th>...</th>\n",
       "      <th>PTS_y</th>\n",
       "      <th>TRB_y</th>\n",
       "      <th>AST_y</th>\n",
       "      <th>STL_y</th>\n",
       "      <th>BLK_y</th>\n",
       "      <th>FG%_y</th>\n",
       "      <th>3P%_y</th>\n",
       "      <th>FT%_y</th>\n",
       "      <th>WS</th>\n",
       "      <th>WS/48</th>\n",
       "    </tr>\n",
       "  </thead>\n",
       "  <tbody>\n",
       "    <tr>\n",
       "      <th>0</th>\n",
       "      <td>4262</td>\n",
       "      <td>LeBron James</td>\n",
       "      <td>SF</td>\n",
       "      <td>24</td>\n",
       "      <td>CLE</td>\n",
       "      <td>81</td>\n",
       "      <td>81.0</td>\n",
       "      <td>37.7</td>\n",
       "      <td>9.7</td>\n",
       "      <td>19.9</td>\n",
       "      <td>...</td>\n",
       "      <td>28.4</td>\n",
       "      <td>7.6</td>\n",
       "      <td>7.2</td>\n",
       "      <td>1.7</td>\n",
       "      <td>1.1</td>\n",
       "      <td>0.489</td>\n",
       "      <td>0.344</td>\n",
       "      <td>0.780</td>\n",
       "      <td>20.3</td>\n",
       "      <td>0.318</td>\n",
       "    </tr>\n",
       "    <tr>\n",
       "      <th>1</th>\n",
       "      <td>4880</td>\n",
       "      <td>LeBron James</td>\n",
       "      <td>SF</td>\n",
       "      <td>25</td>\n",
       "      <td>CLE</td>\n",
       "      <td>76</td>\n",
       "      <td>76.0</td>\n",
       "      <td>39.0</td>\n",
       "      <td>10.1</td>\n",
       "      <td>20.1</td>\n",
       "      <td>...</td>\n",
       "      <td>29.7</td>\n",
       "      <td>7.3</td>\n",
       "      <td>8.6</td>\n",
       "      <td>1.6</td>\n",
       "      <td>1.0</td>\n",
       "      <td>0.503</td>\n",
       "      <td>0.333</td>\n",
       "      <td>0.767</td>\n",
       "      <td>18.5</td>\n",
       "      <td>0.299</td>\n",
       "    </tr>\n",
       "    <tr>\n",
       "      <th>2</th>\n",
       "      <td>5691</td>\n",
       "      <td>Derrick Rose</td>\n",
       "      <td>PG</td>\n",
       "      <td>22</td>\n",
       "      <td>CHI</td>\n",
       "      <td>81</td>\n",
       "      <td>81.0</td>\n",
       "      <td>37.4</td>\n",
       "      <td>8.8</td>\n",
       "      <td>19.7</td>\n",
       "      <td>...</td>\n",
       "      <td>25.0</td>\n",
       "      <td>4.1</td>\n",
       "      <td>7.7</td>\n",
       "      <td>1.0</td>\n",
       "      <td>0.6</td>\n",
       "      <td>0.445</td>\n",
       "      <td>0.332</td>\n",
       "      <td>0.858</td>\n",
       "      <td>13.1</td>\n",
       "      <td>0.208</td>\n",
       "    </tr>\n",
       "    <tr>\n",
       "      <th>3</th>\n",
       "      <td>6111</td>\n",
       "      <td>LeBron James</td>\n",
       "      <td>SF</td>\n",
       "      <td>27</td>\n",
       "      <td>MIA</td>\n",
       "      <td>62</td>\n",
       "      <td>62.0</td>\n",
       "      <td>37.5</td>\n",
       "      <td>10.0</td>\n",
       "      <td>18.9</td>\n",
       "      <td>...</td>\n",
       "      <td>27.1</td>\n",
       "      <td>7.9</td>\n",
       "      <td>6.2</td>\n",
       "      <td>1.9</td>\n",
       "      <td>0.8</td>\n",
       "      <td>0.531</td>\n",
       "      <td>0.362</td>\n",
       "      <td>0.771</td>\n",
       "      <td>14.5</td>\n",
       "      <td>0.298</td>\n",
       "    </tr>\n",
       "    <tr>\n",
       "      <th>4</th>\n",
       "      <td>6670</td>\n",
       "      <td>LeBron James</td>\n",
       "      <td>PF</td>\n",
       "      <td>28</td>\n",
       "      <td>MIA</td>\n",
       "      <td>76</td>\n",
       "      <td>76.0</td>\n",
       "      <td>37.9</td>\n",
       "      <td>10.1</td>\n",
       "      <td>17.8</td>\n",
       "      <td>...</td>\n",
       "      <td>26.8</td>\n",
       "      <td>8.0</td>\n",
       "      <td>7.3</td>\n",
       "      <td>1.7</td>\n",
       "      <td>0.9</td>\n",
       "      <td>0.565</td>\n",
       "      <td>0.406</td>\n",
       "      <td>0.753</td>\n",
       "      <td>19.3</td>\n",
       "      <td>0.322</td>\n",
       "    </tr>\n",
       "    <tr>\n",
       "      <th>5</th>\n",
       "      <td>7192</td>\n",
       "      <td>Kevin Durant</td>\n",
       "      <td>SF</td>\n",
       "      <td>25</td>\n",
       "      <td>OKC</td>\n",
       "      <td>81</td>\n",
       "      <td>81.0</td>\n",
       "      <td>38.5</td>\n",
       "      <td>10.5</td>\n",
       "      <td>20.8</td>\n",
       "      <td>...</td>\n",
       "      <td>32.0</td>\n",
       "      <td>7.4</td>\n",
       "      <td>5.5</td>\n",
       "      <td>1.3</td>\n",
       "      <td>0.7</td>\n",
       "      <td>0.503</td>\n",
       "      <td>0.391</td>\n",
       "      <td>0.873</td>\n",
       "      <td>19.2</td>\n",
       "      <td>0.295</td>\n",
       "    </tr>\n",
       "    <tr>\n",
       "      <th>6</th>\n",
       "      <td>7776</td>\n",
       "      <td>Stephen Curry</td>\n",
       "      <td>PG</td>\n",
       "      <td>26</td>\n",
       "      <td>GSW</td>\n",
       "      <td>80</td>\n",
       "      <td>80.0</td>\n",
       "      <td>32.7</td>\n",
       "      <td>8.2</td>\n",
       "      <td>16.8</td>\n",
       "      <td>...</td>\n",
       "      <td>23.8</td>\n",
       "      <td>4.3</td>\n",
       "      <td>7.7</td>\n",
       "      <td>2.0</td>\n",
       "      <td>0.2</td>\n",
       "      <td>0.487</td>\n",
       "      <td>0.443</td>\n",
       "      <td>0.914</td>\n",
       "      <td>15.7</td>\n",
       "      <td>0.288</td>\n",
       "    </tr>\n",
       "    <tr>\n",
       "      <th>7</th>\n",
       "      <td>8432</td>\n",
       "      <td>Stephen Curry</td>\n",
       "      <td>PG</td>\n",
       "      <td>27</td>\n",
       "      <td>GSW</td>\n",
       "      <td>79</td>\n",
       "      <td>79.0</td>\n",
       "      <td>34.2</td>\n",
       "      <td>10.2</td>\n",
       "      <td>20.2</td>\n",
       "      <td>...</td>\n",
       "      <td>30.1</td>\n",
       "      <td>5.4</td>\n",
       "      <td>6.7</td>\n",
       "      <td>2.1</td>\n",
       "      <td>0.2</td>\n",
       "      <td>0.504</td>\n",
       "      <td>0.454</td>\n",
       "      <td>0.908</td>\n",
       "      <td>17.9</td>\n",
       "      <td>0.318</td>\n",
       "    </tr>\n",
       "    <tr>\n",
       "      <th>8</th>\n",
       "      <td>9492</td>\n",
       "      <td>Russell Westbrook</td>\n",
       "      <td>PG</td>\n",
       "      <td>28</td>\n",
       "      <td>OKC</td>\n",
       "      <td>81</td>\n",
       "      <td>81.0</td>\n",
       "      <td>34.6</td>\n",
       "      <td>10.2</td>\n",
       "      <td>24.0</td>\n",
       "      <td>...</td>\n",
       "      <td>31.6</td>\n",
       "      <td>10.7</td>\n",
       "      <td>10.4</td>\n",
       "      <td>1.6</td>\n",
       "      <td>0.4</td>\n",
       "      <td>0.425</td>\n",
       "      <td>0.343</td>\n",
       "      <td>0.845</td>\n",
       "      <td>13.1</td>\n",
       "      <td>0.224</td>\n",
       "    </tr>\n",
       "    <tr>\n",
       "      <th>9</th>\n",
       "      <td>9773</td>\n",
       "      <td>James Harden</td>\n",
       "      <td>SG</td>\n",
       "      <td>28</td>\n",
       "      <td>HOU</td>\n",
       "      <td>72</td>\n",
       "      <td>72.0</td>\n",
       "      <td>35.4</td>\n",
       "      <td>9.0</td>\n",
       "      <td>20.1</td>\n",
       "      <td>...</td>\n",
       "      <td>30.4</td>\n",
       "      <td>5.4</td>\n",
       "      <td>8.8</td>\n",
       "      <td>1.8</td>\n",
       "      <td>0.7</td>\n",
       "      <td>0.449</td>\n",
       "      <td>0.367</td>\n",
       "      <td>0.858</td>\n",
       "      <td>15.4</td>\n",
       "      <td>0.289</td>\n",
       "    </tr>\n",
       "  </tbody>\n",
       "</table>\n",
       "<p>10 rows × 48 columns</p>\n",
       "</div>"
      ],
      "text/plain": [
       "   Unnamed: 0_x             Player Pos  Age_x Tm_x  G_x    GS  MP_x    FG  \\\n",
       "0          4262       LeBron James  SF     24  CLE   81  81.0  37.7   9.7   \n",
       "1          4880       LeBron James  SF     25  CLE   76  76.0  39.0  10.1   \n",
       "2          5691       Derrick Rose  PG     22  CHI   81  81.0  37.4   8.8   \n",
       "3          6111       LeBron James  SF     27  MIA   62  62.0  37.5  10.0   \n",
       "4          6670       LeBron James  PF     28  MIA   76  76.0  37.9  10.1   \n",
       "5          7192       Kevin Durant  SF     25  OKC   81  81.0  38.5  10.5   \n",
       "6          7776      Stephen Curry  PG     26  GSW   80  80.0  32.7   8.2   \n",
       "7          8432      Stephen Curry  PG     27  GSW   79  79.0  34.2  10.2   \n",
       "8          9492  Russell Westbrook  PG     28  OKC   81  81.0  34.6  10.2   \n",
       "9          9773       James Harden  SG     28  HOU   72  72.0  35.4   9.0   \n",
       "\n",
       "    FGA  ...  PTS_y  TRB_y  AST_y  STL_y  BLK_y  FG%_y  3P%_y  FT%_y    WS  \\\n",
       "0  19.9  ...   28.4    7.6    7.2    1.7    1.1  0.489  0.344  0.780  20.3   \n",
       "1  20.1  ...   29.7    7.3    8.6    1.6    1.0  0.503  0.333  0.767  18.5   \n",
       "2  19.7  ...   25.0    4.1    7.7    1.0    0.6  0.445  0.332  0.858  13.1   \n",
       "3  18.9  ...   27.1    7.9    6.2    1.9    0.8  0.531  0.362  0.771  14.5   \n",
       "4  17.8  ...   26.8    8.0    7.3    1.7    0.9  0.565  0.406  0.753  19.3   \n",
       "5  20.8  ...   32.0    7.4    5.5    1.3    0.7  0.503  0.391  0.873  19.2   \n",
       "6  16.8  ...   23.8    4.3    7.7    2.0    0.2  0.487  0.443  0.914  15.7   \n",
       "7  20.2  ...   30.1    5.4    6.7    2.1    0.2  0.504  0.454  0.908  17.9   \n",
       "8  24.0  ...   31.6   10.7   10.4    1.6    0.4  0.425  0.343  0.845  13.1   \n",
       "9  20.1  ...   30.4    5.4    8.8    1.8    0.7  0.449  0.367  0.858  15.4   \n",
       "\n",
       "   WS/48  \n",
       "0  0.318  \n",
       "1  0.299  \n",
       "2  0.208  \n",
       "3  0.298  \n",
       "4  0.322  \n",
       "5  0.295  \n",
       "6  0.288  \n",
       "7  0.318  \n",
       "8  0.224  \n",
       "9  0.289  \n",
       "\n",
       "[10 rows x 48 columns]"
      ]
     },
     "execution_count": 208,
     "metadata": {},
     "output_type": "execute_result"
    }
   ],
   "source": [
    "nba_mvp_pg.head(10)"
   ]
  },
  {
   "cell_type": "code",
   "execution_count": null,
   "metadata": {},
   "outputs": [],
   "source": [
    "nba_mvp['eFG%'] = (nba_mvp['FG%'] + (0.5 * nba_mvp['3P%'] )/nba_mvp['']"
   ]
  }
 ],
 "metadata": {
  "kernelspec": {
   "display_name": "Python 3",
   "language": "python",
   "name": "python3"
  },
  "language_info": {
   "codemirror_mode": {
    "name": "ipython",
    "version": 3
   },
   "file_extension": ".py",
   "mimetype": "text/x-python",
   "name": "python",
   "nbconvert_exporter": "python",
   "pygments_lexer": "ipython3",
   "version": "3.7.4"
  }
 },
 "nbformat": 4,
 "nbformat_minor": 2
}
